{
 "cells": [
  {
   "cell_type": "markdown",
   "id": "a5e965ba",
   "metadata": {},
   "source": [
    "# Case Study: How Does a Bike-Share Navigate Speedy Success"
   ]
  },
  {
   "cell_type": "markdown",
   "id": "01485363",
   "metadata": {},
   "source": [
    "## Outlines"
   ]
  },
  {
   "cell_type": "markdown",
   "id": "33f49cb3",
   "metadata": {},
   "source": [
    "### How do annual members and casual riders use Cyclistic bikes differently?\n"
   ]
  },
  {
   "cell_type": "markdown",
   "id": "60811b5b",
   "metadata": {},
   "source": [
    "## I- Question"
   ]
  },
  {
   "cell_type": "markdown",
   "id": "baa02d08",
   "metadata": {},
   "source": [
    "## II- Importing\n"
   ]
  },
  {
   "cell_type": "markdown",
   "id": "6501ca92",
   "metadata": {},
   "source": [
    "### Importing libraries\n"
   ]
  },
  {
   "cell_type": "code",
   "execution_count": 2,
   "id": "8d45ab85",
   "metadata": {},
   "outputs": [],
   "source": [
    "from glob import glob\n",
    "import pandas as pd\n",
    "import os\n",
    "import matplotlib.pyplot as plt\n",
    "import matplotlib.ticker as ticker\n",
    "from datetime import datetime\n",
    "import seaborn as sns\n"
   ]
  },
  {
   "cell_type": "code",
   "execution_count": 3,
   "id": "75f4706c",
   "metadata": {},
   "outputs": [],
   "source": [
    "current_path = os.getcwd()"
   ]
  },
  {
   "cell_type": "code",
   "execution_count": 4,
   "id": "b13a723a",
   "metadata": {},
   "outputs": [
    {
     "data": {
      "text/plain": [
       "'C:\\\\Users\\\\Moustafa Abdel-sttar'"
      ]
     },
     "execution_count": 4,
     "metadata": {},
     "output_type": "execute_result"
    }
   ],
   "source": [
    "current_path"
   ]
  },
  {
   "cell_type": "code",
   "execution_count": 5,
   "id": "6574e31d",
   "metadata": {},
   "outputs": [],
   "source": [
    "files = glob('C:\\\\Users\\\\Moustafa Abdel-sttar\\\\case_study\\\\*-divvy-tripdata.csv')\n",
    "#files"
   ]
  },
  {
   "cell_type": "code",
   "execution_count": 6,
   "id": "ea558007",
   "metadata": {},
   "outputs": [],
   "source": [
    "def wrangle (filepath):\n",
    "    df=pd.read_csv(filepath)\n",
    "    return df"
   ]
  },
  {
   "cell_type": "code",
   "execution_count": 7,
   "id": "9c8584ec",
   "metadata": {},
   "outputs": [],
   "source": [
    "frames=[]\n",
    "for file in files:\n",
    "    df=wrangle(file)\n",
    "    frames.append(df)"
   ]
  },
  {
   "cell_type": "code",
   "execution_count": 8,
   "id": "5cb997fd",
   "metadata": {},
   "outputs": [],
   "source": [
    "df = pd.concat(frames,ignore_index=True)"
   ]
  },
  {
   "cell_type": "markdown",
   "id": "134ba2fb",
   "metadata": {},
   "source": [
    "## III- Data cleaning and processing\n"
   ]
  },
  {
   "cell_type": "code",
   "execution_count": 9,
   "id": "0336aaf9",
   "metadata": {
    "scrolled": true
   },
   "outputs": [
    {
     "data": {
      "text/html": [
       "<div>\n",
       "<style scoped>\n",
       "    .dataframe tbody tr th:only-of-type {\n",
       "        vertical-align: middle;\n",
       "    }\n",
       "\n",
       "    .dataframe tbody tr th {\n",
       "        vertical-align: top;\n",
       "    }\n",
       "\n",
       "    .dataframe thead th {\n",
       "        text-align: right;\n",
       "    }\n",
       "</style>\n",
       "<table border=\"1\" class=\"dataframe\">\n",
       "  <thead>\n",
       "    <tr style=\"text-align: right;\">\n",
       "      <th></th>\n",
       "      <th>ride_id</th>\n",
       "      <th>rideable_type</th>\n",
       "      <th>started_at</th>\n",
       "      <th>ended_at</th>\n",
       "      <th>start_station_name</th>\n",
       "      <th>start_station_id</th>\n",
       "      <th>end_station_name</th>\n",
       "      <th>end_station_id</th>\n",
       "      <th>start_lat</th>\n",
       "      <th>start_lng</th>\n",
       "      <th>end_lat</th>\n",
       "      <th>end_lng</th>\n",
       "      <th>member_casual</th>\n",
       "      <th>ride_length</th>\n",
       "      <th>day_of_week</th>\n",
       "    </tr>\n",
       "  </thead>\n",
       "  <tbody>\n",
       "    <tr>\n",
       "      <th>0</th>\n",
       "      <td>954144C2F67B1932</td>\n",
       "      <td>classic_bike</td>\n",
       "      <td>7/5/2022 8:12</td>\n",
       "      <td>7/5/2022 8:24</td>\n",
       "      <td>Ashland Ave &amp; Blackhawk St</td>\n",
       "      <td>13224</td>\n",
       "      <td>Kingsbury St &amp; Kinzie St</td>\n",
       "      <td>KA1503000043</td>\n",
       "      <td>41.907066</td>\n",
       "      <td>-87.667252</td>\n",
       "      <td>41.889177</td>\n",
       "      <td>-87.638506</td>\n",
       "      <td>member</td>\n",
       "      <td>0:12:00</td>\n",
       "      <td>3</td>\n",
       "    </tr>\n",
       "    <tr>\n",
       "      <th>1</th>\n",
       "      <td>292E027607D218B6</td>\n",
       "      <td>classic_bike</td>\n",
       "      <td>7/26/2022 12:53</td>\n",
       "      <td>7/26/2022 12:55</td>\n",
       "      <td>Buckingham Fountain (Temp)</td>\n",
       "      <td>15541</td>\n",
       "      <td>Michigan Ave &amp; 8th St</td>\n",
       "      <td>623</td>\n",
       "      <td>41.869621</td>\n",
       "      <td>-87.623981</td>\n",
       "      <td>41.872773</td>\n",
       "      <td>-87.623981</td>\n",
       "      <td>casual</td>\n",
       "      <td>0:02:00</td>\n",
       "      <td>3</td>\n",
       "    </tr>\n",
       "    <tr>\n",
       "      <th>2</th>\n",
       "      <td>57765852588AD6E0</td>\n",
       "      <td>classic_bike</td>\n",
       "      <td>7/3/2022 13:58</td>\n",
       "      <td>7/3/2022 14:06</td>\n",
       "      <td>Buckingham Fountain (Temp)</td>\n",
       "      <td>15541</td>\n",
       "      <td>Michigan Ave &amp; 8th St</td>\n",
       "      <td>623</td>\n",
       "      <td>41.869621</td>\n",
       "      <td>-87.623981</td>\n",
       "      <td>41.872773</td>\n",
       "      <td>-87.623981</td>\n",
       "      <td>casual</td>\n",
       "      <td>0:08:00</td>\n",
       "      <td>1</td>\n",
       "    </tr>\n",
       "    <tr>\n",
       "      <th>3</th>\n",
       "      <td>B5B6BE44314590E6</td>\n",
       "      <td>classic_bike</td>\n",
       "      <td>7/31/2022 17:44</td>\n",
       "      <td>7/31/2022 18:42</td>\n",
       "      <td>Buckingham Fountain (Temp)</td>\n",
       "      <td>15541</td>\n",
       "      <td>Woodlawn Ave &amp; 55th St</td>\n",
       "      <td>TA1307000164</td>\n",
       "      <td>41.869621</td>\n",
       "      <td>-87.623981</td>\n",
       "      <td>41.795264</td>\n",
       "      <td>-87.596471</td>\n",
       "      <td>casual</td>\n",
       "      <td>0:58:00</td>\n",
       "      <td>1</td>\n",
       "    </tr>\n",
       "    <tr>\n",
       "      <th>4</th>\n",
       "      <td>A4C331F2A00E79E0</td>\n",
       "      <td>classic_bike</td>\n",
       "      <td>7/13/2022 19:49</td>\n",
       "      <td>7/13/2022 20:15</td>\n",
       "      <td>Wabash Ave &amp; Grand Ave</td>\n",
       "      <td>TA1307000117</td>\n",
       "      <td>Sheffield Ave &amp; Wellington Ave</td>\n",
       "      <td>TA1307000052</td>\n",
       "      <td>41.891466</td>\n",
       "      <td>-87.626761</td>\n",
       "      <td>41.936253</td>\n",
       "      <td>-87.652662</td>\n",
       "      <td>member</td>\n",
       "      <td>0:26:00</td>\n",
       "      <td>4</td>\n",
       "    </tr>\n",
       "  </tbody>\n",
       "</table>\n",
       "</div>"
      ],
      "text/plain": [
       "            ride_id rideable_type       started_at         ended_at  \\\n",
       "0  954144C2F67B1932  classic_bike    7/5/2022 8:12    7/5/2022 8:24   \n",
       "1  292E027607D218B6  classic_bike  7/26/2022 12:53  7/26/2022 12:55   \n",
       "2  57765852588AD6E0  classic_bike   7/3/2022 13:58   7/3/2022 14:06   \n",
       "3  B5B6BE44314590E6  classic_bike  7/31/2022 17:44  7/31/2022 18:42   \n",
       "4  A4C331F2A00E79E0  classic_bike  7/13/2022 19:49  7/13/2022 20:15   \n",
       "\n",
       "           start_station_name start_station_id  \\\n",
       "0  Ashland Ave & Blackhawk St            13224   \n",
       "1  Buckingham Fountain (Temp)            15541   \n",
       "2  Buckingham Fountain (Temp)            15541   \n",
       "3  Buckingham Fountain (Temp)            15541   \n",
       "4      Wabash Ave & Grand Ave     TA1307000117   \n",
       "\n",
       "                 end_station_name end_station_id  start_lat  start_lng  \\\n",
       "0        Kingsbury St & Kinzie St   KA1503000043  41.907066 -87.667252   \n",
       "1           Michigan Ave & 8th St            623  41.869621 -87.623981   \n",
       "2           Michigan Ave & 8th St            623  41.869621 -87.623981   \n",
       "3          Woodlawn Ave & 55th St   TA1307000164  41.869621 -87.623981   \n",
       "4  Sheffield Ave & Wellington Ave   TA1307000052  41.891466 -87.626761   \n",
       "\n",
       "     end_lat    end_lng member_casual ride_length  day_of_week  \n",
       "0  41.889177 -87.638506        member     0:12:00            3  \n",
       "1  41.872773 -87.623981        casual     0:02:00            3  \n",
       "2  41.872773 -87.623981        casual     0:08:00            1  \n",
       "3  41.795264 -87.596471        casual     0:58:00            1  \n",
       "4  41.936253 -87.652662        member     0:26:00            4  "
      ]
     },
     "execution_count": 9,
     "metadata": {},
     "output_type": "execute_result"
    }
   ],
   "source": [
    "df.head()"
   ]
  },
  {
   "cell_type": "code",
   "execution_count": 10,
   "id": "a1a262a7",
   "metadata": {
    "scrolled": true
   },
   "outputs": [
    {
     "name": "stdout",
     "output_type": "stream",
     "text": [
      "<class 'pandas.core.frame.DataFrame'>\n",
      "RangeIndex: 5779444 entries, 0 to 5779443\n",
      "Data columns (total 15 columns):\n",
      " #   Column              Dtype  \n",
      "---  ------              -----  \n",
      " 0   ride_id             object \n",
      " 1   rideable_type       object \n",
      " 2   started_at          object \n",
      " 3   ended_at            object \n",
      " 4   start_station_name  object \n",
      " 5   start_station_id    object \n",
      " 6   end_station_name    object \n",
      " 7   end_station_id      object \n",
      " 8   start_lat           float64\n",
      " 9   start_lng           float64\n",
      " 10  end_lat             float64\n",
      " 11  end_lng             float64\n",
      " 12  member_casual       object \n",
      " 13  ride_length         object \n",
      " 14  day_of_week         int64  \n",
      "dtypes: float64(4), int64(1), object(10)\n",
      "memory usage: 661.4+ MB\n"
     ]
    }
   ],
   "source": [
    "df.info()"
   ]
  },
  {
   "cell_type": "markdown",
   "id": "f102111f",
   "metadata": {},
   "source": [
    "### Handling Nulls"
   ]
  },
  {
   "cell_type": "code",
   "execution_count": 11,
   "id": "a3970736",
   "metadata": {},
   "outputs": [
    {
     "data": {
      "text/plain": [
       "ride_id                    0\n",
       "rideable_type              0\n",
       "started_at                 0\n",
       "ended_at                   0\n",
       "start_station_name    857860\n",
       "start_station_id      857992\n",
       "end_station_name      915655\n",
       "end_station_id        915796\n",
       "start_lat                  0\n",
       "start_lng                  0\n",
       "end_lat                 5795\n",
       "end_lng                 5795\n",
       "member_casual              0\n",
       "ride_length                0\n",
       "day_of_week                0\n",
       "dtype: int64"
      ]
     },
     "execution_count": 11,
     "metadata": {},
     "output_type": "execute_result"
    }
   ],
   "source": [
    "df.isnull().sum()"
   ]
  },
  {
   "cell_type": "code",
   "execution_count": 12,
   "id": "67320393",
   "metadata": {},
   "outputs": [],
   "source": [
    "df.dropna(inplace=True)"
   ]
  },
  {
   "cell_type": "code",
   "execution_count": 13,
   "id": "0eb1bcab",
   "metadata": {},
   "outputs": [],
   "source": [
    "def convert_to_total_minutes(time_str):\n",
    "    try:\n",
    "        hours_str, minutes_str, seconds_str = time_str.split(':')\n",
    "        hours = int(hours_str)\n",
    "        minutes = int(minutes_str)\n",
    "        seconds = int(seconds_str)\n",
    "        total_minutes = (hours * 60) + minutes + (seconds / 60)\n",
    "        return total_minutes\n",
    "    except ValueError:\n",
    "        return None\n",
    "\n",
    "df['ride_length_minutes'] = df['ride_length'].apply(convert_to_total_minutes)\n"
   ]
  },
  {
   "cell_type": "code",
   "execution_count": 14,
   "id": "661aad66",
   "metadata": {},
   "outputs": [
    {
     "name": "stdout",
     "output_type": "stream",
     "text": [
      "<class 'pandas.core.frame.DataFrame'>\n",
      "Int64Index: 4409089 entries, 0 to 5779439\n",
      "Data columns (total 16 columns):\n",
      " #   Column               Dtype  \n",
      "---  ------               -----  \n",
      " 0   ride_id              object \n",
      " 1   rideable_type        object \n",
      " 2   started_at           object \n",
      " 3   ended_at             object \n",
      " 4   start_station_name   object \n",
      " 5   start_station_id     object \n",
      " 6   end_station_name     object \n",
      " 7   end_station_id       object \n",
      " 8   start_lat            float64\n",
      " 9   start_lng            float64\n",
      " 10  end_lat              float64\n",
      " 11  end_lng              float64\n",
      " 12  member_casual        object \n",
      " 13  ride_length          object \n",
      " 14  day_of_week          int64  \n",
      " 15  ride_length_minutes  float64\n",
      "dtypes: float64(5), int64(1), object(10)\n",
      "memory usage: 571.9+ MB\n"
     ]
    }
   ],
   "source": [
    "df.info()"
   ]
  },
  {
   "cell_type": "markdown",
   "id": "9f9421ea",
   "metadata": {},
   "source": [
    "### Membership Type Comparison"
   ]
  },
  {
   "cell_type": "code",
   "execution_count": 15,
   "id": "2afe0d8b",
   "metadata": {},
   "outputs": [],
   "source": [
    "data_grouped_c=df['member_casual'].value_counts(normalize=True)"
   ]
  },
  {
   "cell_type": "code",
   "execution_count": 16,
   "id": "949bd1df",
   "metadata": {},
   "outputs": [
    {
     "data": {
      "text/plain": [
       "member    0.619959\n",
       "casual    0.380041\n",
       "Name: member_casual, dtype: float64"
      ]
     },
     "execution_count": 16,
     "metadata": {},
     "output_type": "execute_result"
    }
   ],
   "source": [
    "data_grouped_c"
   ]
  },
  {
   "cell_type": "code",
   "execution_count": 17,
   "id": "bb938ddf",
   "metadata": {
    "scrolled": true
   },
   "outputs": [
    {
     "data": {
      "image/png": "[encoded data removed]",
      "text/plain": [
       "<Figure size 432x432 with 1 Axes>"
      ]
     },
     "metadata": {},
     "output_type": "display_data"
    }
   ],
   "source": [
    "plt.figure(figsize=(6, 6))\n",
    "plt.pie(data_grouped_c, labels=data_grouped_c.index, autopct='%1.1f%%', startangle=90, colors=['skyblue', 'lightcoral'])\n",
    "plt.title('Percentage of Members Vs Casual Riders',fontweight='bold')\n",
    "plt.show()"
   ]
  },
  {
   "cell_type": "markdown",
   "id": "1a5bc298",
   "metadata": {},
   "source": [
    "### Ride Duration Analysis"
   ]
  },
  {
   "cell_type": "code",
   "execution_count": 18,
   "id": "1d723c89",
   "metadata": {
    "scrolled": true
   },
   "outputs": [
    {
     "data": {
      "text/plain": [
       "count    4.409014e+06\n",
       "mean     1.605187e+01\n",
       "std      3.697667e+01\n",
       "min      0.000000e+00\n",
       "25%      5.750000e+00\n",
       "50%      1.000000e+01\n",
       "75%      1.793333e+01\n",
       "max      3.203500e+04\n",
       "Name: ride_length_minutes, dtype: float64"
      ]
     },
     "execution_count": 18,
     "metadata": {},
     "output_type": "execute_result"
    }
   ],
   "source": [
    "df['ride_length_minutes'].describe()"
   ]
  },
  {
   "cell_type": "code",
   "execution_count": 19,
   "id": "40b6f2ae",
   "metadata": {},
   "outputs": [],
   "source": [
    "Q1 = df['ride_length_minutes'].quantile(0.25)\n",
    "Q3 = df['ride_length_minutes'].quantile(0.75)\n",
    "IQR = Q3 - Q1    #IQR is interquartile range. \n",
    "\n",
    "filter = (df['ride_length_minutes'] >= Q1 - 1.5 * IQR) & (df['ride_length_minutes'] <= Q3 + 1.5 *IQR)\n",
    "df=df.loc[filter]  "
   ]
  },
  {
   "cell_type": "code",
   "execution_count": 20,
   "id": "b4185c26",
   "metadata": {},
   "outputs": [
    {
     "data": {
      "text/plain": [
       "<AxesSubplot:>"
      ]
     },
     "execution_count": 20,
     "metadata": {},
     "output_type": "execute_result"
    },
    {
     "data": {
      "image/png": "[encoded data removed]",
      "text/plain": [
       "<Figure size 432x288 with 1 Axes>"
      ]
     },
     "metadata": {
      "needs_background": "light"
     },
     "output_type": "display_data"
    }
   ],
   "source": [
    "sns.boxplot(data=df['ride_length_minutes'],orient='h')"
   ]
  },
  {
   "cell_type": "code",
   "execution_count": 21,
   "id": "50f45ecd",
   "metadata": {},
   "outputs": [
    {
     "data": {
      "text/plain": [
       "<AxesSubplot:xlabel='ride_length_minutes', ylabel='member_casual'>"
      ]
     },
     "execution_count": 21,
     "metadata": {},
     "output_type": "execute_result"
    },
    {
     "data": {
      "image/png": "[encoded data removed]",
      "text/plain": [
       "<Figure size 432x288 with 1 Axes>"
      ]
     },
     "metadata": {
      "needs_background": "light"
     },
     "output_type": "display_data"
    }
   ],
   "source": [
    "sns.boxplot(x='ride_length_minutes', y='member_casual', data=df, orient='h')\n"
   ]
  },
  {
   "cell_type": "markdown",
   "id": "3c905752",
   "metadata": {},
   "source": [
    "### Usage Patterns"
   ]
  },
  {
   "cell_type": "code",
   "execution_count": 22,
   "id": "7373791f",
   "metadata": {},
   "outputs": [
    {
     "data": {
      "text/plain": [
       "array(['classic_bike', 'electric_bike', 'docked_bike'], dtype=object)"
      ]
     },
     "execution_count": 22,
     "metadata": {},
     "output_type": "execute_result"
    }
   ],
   "source": [
    "df['rideable_type'].unique()"
   ]
  },
  {
   "cell_type": "code",
   "execution_count": 23,
   "id": "f3df4603",
   "metadata": {},
   "outputs": [],
   "source": [
    "data_grouped_cb = df.groupby(['rideable_type', 'member_casual']).size().reset_index(name='count')"
   ]
  },
  {
   "cell_type": "code",
   "execution_count": 24,
   "id": "96e852df",
   "metadata": {},
   "outputs": [
    {
     "data": {
      "image/png": "[encoded data removed]",
      "text/plain": [
       "<Figure size 864x432 with 1 Axes>"
      ]
     },
     "metadata": {},
     "output_type": "display_data"
    }
   ],
   "source": [
    "sns.set_theme(style='whitegrid')\n",
    "plt.figure(figsize=(12, 6))\n",
    "ax=sns.barplot(data=data_grouped_cb, x='rideable_type', y='count', hue='member_casual')\n",
    "def format_millions(x, pos):\n",
    "    if x >= 1e6:\n",
    "        return '{:,.2f}M'.format(x / 1e6)\n",
    "    else:\n",
    "        return '{:,.0f}K'.format(x/1e3)\n",
    "\n",
    "ax.yaxis.set_major_formatter(ticker.FuncFormatter(format_millions))\n",
    "plt.xlabel('Bike Types',fontweight='bold')\n",
    "plt.ylabel('Number of Users',fontweight='bold')\n",
    "plt.title('Number of Annual Members and Casuals for Each Bike Type',fontweight='bold')\n",
    "plt.legend(loc='center left', bbox_to_anchor=(1, 0.5))\n",
    "new_labels = ['Classic Bike', 'Docked Bike', 'Electric Bike']\n",
    "ax.set_xticklabels(new_labels)\n",
    "plt.show()"
   ]
  },
  {
   "cell_type": "markdown",
   "id": "7a3ae313",
   "metadata": {},
   "source": [
    "\n"
   ]
  },
  {
   "cell_type": "markdown",
   "id": "d29f1179",
   "metadata": {},
   "source": [
    "### Start and End Stations"
   ]
  },
  {
   "cell_type": "code",
   "execution_count": 25,
   "id": "905ac880",
   "metadata": {},
   "outputs": [
    {
     "data": {
      "text/plain": [
       "1680"
      ]
     },
     "execution_count": 25,
     "metadata": {},
     "output_type": "execute_result"
    }
   ],
   "source": [
    "len(df['start_station_name'].unique())"
   ]
  },
  {
   "cell_type": "code",
   "execution_count": null,
   "id": "f5158678",
   "metadata": {},
   "outputs": [],
   "source": []
  },
  {
   "cell_type": "code",
   "execution_count": 27,
   "id": "fa6951b9",
   "metadata": {},
   "outputs": [],
   "source": [
    "start_station_counts = df.groupby(['start_station_name', 'member_casual']).size().reset_index(name='ride_count_start')\n"
   ]
  },
  {
   "cell_type": "code",
   "execution_count": 31,
   "id": "bdd51f2f",
   "metadata": {},
   "outputs": [],
   "source": [
    "end_station_counts = df.groupby(['end_station_name', 'member_casual']).size().reset_index(name='ride_count_end')\n"
   ]
  },
  {
   "cell_type": "code",
   "execution_count": 34,
   "id": "9bb4404b",
   "metadata": {},
   "outputs": [],
   "source": [
    "top_start_stations = start_station_counts.groupby('start_station_name').sum().nlargest(5, 'ride_count_start').index\n",
    "top_end_stations = end_station_counts.groupby('end_station_name').sum().nlargest(5, 'ride_count_end').index\n"
   ]
  },
  {
   "cell_type": "code",
   "execution_count": 35,
   "id": "7050f50e",
   "metadata": {},
   "outputs": [],
   "source": [
    "start_station_counts = start_station_counts[start_station_counts['start_station_name'].isin(top_start_stations)].sort_values('ride_count_start', ascending=False)\n",
    "end_station_counts = end_station_counts[end_station_counts['end_station_name'].isin(top_end_stations)].sort_values('ride_count_end', ascending=False)"
   ]
  },
  {
   "cell_type": "code",
   "execution_count": 36,
   "id": "66a61c75",
   "metadata": {},
   "outputs": [
    {
     "data": {
      "image/png": "[encoded data removed]",
      "text/plain": [
       "<Figure size 720x432 with 1 Axes>"
      ]
     },
     "metadata": {},
     "output_type": "display_data"
    }
   ],
   "source": [
    "plt.figure(figsize=(10, 6))\n",
    "sns.barplot(data=start_station_counts, x='ride_count_start', y='start_station_name', hue='member_casual', orient='h')\n",
    "plt.xlabel('Ride Count')\n",
    "plt.ylabel('Start Station')\n",
    "plt.title('Top 5 Highest Start Stations for Both Customer Types')\n",
    "plt.legend(title='Customer Type')\n",
    "plt.show()"
   ]
  },
  {
   "cell_type": "code",
   "execution_count": 37,
   "id": "85a689d2",
   "metadata": {},
   "outputs": [
    {
     "data": {
      "image/png": "[encoded data removed]",
      "text/plain": [
       "<Figure size 720x432 with 1 Axes>"
      ]
     },
     "metadata": {},
     "output_type": "display_data"
    }
   ],
   "source": [
    "plt.figure(figsize=(10, 6))\n",
    "sns.barplot(data=end_station_counts, x='ride_count_end', y='end_station_name', hue='member_casual', orient='h')\n",
    "plt.xlabel('Ride Count')\n",
    "plt.ylabel('End Station')\n",
    "plt.title('Top 5 Highest End Stations for Both Customer Types')\n",
    "plt.legend(title='Customer Type')\n",
    "plt.show()"
   ]
  },
  {
   "cell_type": "markdown",
   "id": "bc0f0023",
   "metadata": {},
   "source": [
    "### Time Analysis"
   ]
  },
  {
   "cell_type": "markdown",
   "id": "bdb0acee",
   "metadata": {},
   "source": [
    "### On Daily Basis"
   ]
  },
  {
   "cell_type": "code",
   "execution_count": 55,
   "id": "88e14733",
   "metadata": {},
   "outputs": [],
   "source": [
    "# initializing list\n",
    "day_map = {\n",
    "    1: 'Sunday',\n",
    "    2: 'Monday',\n",
    "    3: 'Tuesday',\n",
    "    4: 'Wednesday',\n",
    "    5: 'Thursday',\n",
    "    6: 'Friday',\n",
    "    7: 'Saturday'\n",
    "}\n",
    "\n",
    "df['day_of_week'] = df['day_of_week'].replace(day_map)"
   ]
  },
  {
   "cell_type": "code",
   "execution_count": 57,
   "id": "5b831e17",
   "metadata": {},
   "outputs": [],
   "source": [
    "daily_activity=df.groupby(['day_of_week','member_casual']).size().reset_index(name='daily_count')"
   ]
  },
  {
   "cell_type": "code",
   "execution_count": 58,
   "id": "ecd76fad",
   "metadata": {},
   "outputs": [
    {
     "data": {
      "text/html": [
       "<div>\n",
       "<style scoped>\n",
       "    .dataframe tbody tr th:only-of-type {\n",
       "        vertical-align: middle;\n",
       "    }\n",
       "\n",
       "    .dataframe tbody tr th {\n",
       "        vertical-align: top;\n",
       "    }\n",
       "\n",
       "    .dataframe thead th {\n",
       "        text-align: right;\n",
       "    }\n",
       "</style>\n",
       "<table border=\"1\" class=\"dataframe\">\n",
       "  <thead>\n",
       "    <tr style=\"text-align: right;\">\n",
       "      <th></th>\n",
       "      <th>day_of_week</th>\n",
       "      <th>member_casual</th>\n",
       "      <th>daily_count</th>\n",
       "    </tr>\n",
       "  </thead>\n",
       "  <tbody>\n",
       "    <tr>\n",
       "      <th>0</th>\n",
       "      <td>Friday</td>\n",
       "      <td>casual</td>\n",
       "      <td>221402</td>\n",
       "    </tr>\n",
       "    <tr>\n",
       "      <th>1</th>\n",
       "      <td>Friday</td>\n",
       "      <td>member</td>\n",
       "      <td>382988</td>\n",
       "    </tr>\n",
       "    <tr>\n",
       "      <th>2</th>\n",
       "      <td>Monday</td>\n",
       "      <td>casual</td>\n",
       "      <td>162037</td>\n",
       "    </tr>\n",
       "    <tr>\n",
       "      <th>3</th>\n",
       "      <td>Monday</td>\n",
       "      <td>member</td>\n",
       "      <td>365402</td>\n",
       "    </tr>\n",
       "    <tr>\n",
       "      <th>4</th>\n",
       "      <td>Saturday</td>\n",
       "      <td>casual</td>\n",
       "      <td>287920</td>\n",
       "    </tr>\n",
       "    <tr>\n",
       "      <th>5</th>\n",
       "      <td>Saturday</td>\n",
       "      <td>member</td>\n",
       "      <td>331385</td>\n",
       "    </tr>\n",
       "    <tr>\n",
       "      <th>6</th>\n",
       "      <td>Sunday</td>\n",
       "      <td>casual</td>\n",
       "      <td>219300</td>\n",
       "    </tr>\n",
       "    <tr>\n",
       "      <th>7</th>\n",
       "      <td>Sunday</td>\n",
       "      <td>member</td>\n",
       "      <td>280967</td>\n",
       "    </tr>\n",
       "    <tr>\n",
       "      <th>8</th>\n",
       "      <td>Thursday</td>\n",
       "      <td>casual</td>\n",
       "      <td>195741</td>\n",
       "    </tr>\n",
       "    <tr>\n",
       "      <th>9</th>\n",
       "      <td>Thursday</td>\n",
       "      <td>member</td>\n",
       "      <td>426374</td>\n",
       "    </tr>\n",
       "    <tr>\n",
       "      <th>10</th>\n",
       "      <td>Tuesday</td>\n",
       "      <td>casual</td>\n",
       "      <td>168374</td>\n",
       "    </tr>\n",
       "    <tr>\n",
       "      <th>11</th>\n",
       "      <td>Tuesday</td>\n",
       "      <td>member</td>\n",
       "      <td>421119</td>\n",
       "    </tr>\n",
       "    <tr>\n",
       "      <th>12</th>\n",
       "      <td>Wednesday</td>\n",
       "      <td>casual</td>\n",
       "      <td>183142</td>\n",
       "    </tr>\n",
       "    <tr>\n",
       "      <th>13</th>\n",
       "      <td>Wednesday</td>\n",
       "      <td>member</td>\n",
       "      <td>433963</td>\n",
       "    </tr>\n",
       "  </tbody>\n",
       "</table>\n",
       "</div>"
      ],
      "text/plain": [
       "   day_of_week member_casual  daily_count\n",
       "0       Friday        casual       221402\n",
       "1       Friday        member       382988\n",
       "2       Monday        casual       162037\n",
       "3       Monday        member       365402\n",
       "4     Saturday        casual       287920\n",
       "5     Saturday        member       331385\n",
       "6       Sunday        casual       219300\n",
       "7       Sunday        member       280967\n",
       "8     Thursday        casual       195741\n",
       "9     Thursday        member       426374\n",
       "10     Tuesday        casual       168374\n",
       "11     Tuesday        member       421119\n",
       "12   Wednesday        casual       183142\n",
       "13   Wednesday        member       433963"
      ]
     },
     "execution_count": 58,
     "metadata": {},
     "output_type": "execute_result"
    }
   ],
   "source": [
    "daily_activity"
   ]
  },
  {
   "cell_type": "code",
   "execution_count": 62,
   "id": "a299c318",
   "metadata": {},
   "outputs": [
    {
     "data": {
      "image/png": "[encoded data removed]",
      "text/plain": [
       "<Figure size 720x432 with 1 Axes>"
      ]
     },
     "metadata": {},
     "output_type": "display_data"
    }
   ],
   "source": [
    "plt.figure(figsize=(10, 6))\n",
    "day_order = ['Sunday', 'Monday', 'Tuesday', 'Wednesday', 'Thursday', 'Friday', 'Saturday']\n",
    "sns.barplot(data=daily_activity, y='day_of_week', x='daily_count', hue='member_casual', orient='h',order=day_order)\n",
    "plt.xlabel('Daily Count')\n",
    "plt.ylabel('Day')\n",
    "plt.title('Daily Activity by Day of Week for Member and Casual Customers')\n",
    "plt.legend(title='Customer Type')\n",
    "plt.show()"
   ]
  }
 ],
 "metadata": {
  "kernelspec": {
   "display_name": "Python 3 (ipykernel)",
   "language": "python",
   "name": "python3"
  },
  "language_info": {
   "codemirror_mode": {
    "name": "ipython",
    "version": 3
   },
   "file_extension": ".py",
   "mimetype": "text/x-python",
   "name": "python",
   "nbconvert_exporter": "python",
   "pygments_lexer": "ipython3",
   "version": "3.12.4"
  }
 },
 "nbformat": 4,
 "nbformat_minor": 5
}
